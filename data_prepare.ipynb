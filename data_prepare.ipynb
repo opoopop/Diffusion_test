{
 "cells": [
  {
   "cell_type": "code",
   "execution_count": 1,
   "id": "6391d563",
   "metadata": {},
   "outputs": [
    {
     "name": "stdout",
     "output_type": "stream",
     "text": [
      "✅ 已成功保存 50000 张 RGB 图片到 /home/chunjie/improved-diffusion-main/ML_project/linear_schedule/img\n"
     ]
    }
   ],
   "source": [
    "import numpy as np\n",
    "import matplotlib.pyplot as plt\n",
    "import os\n",
    "from PIL import Image\n",
    "\n",
    "def save_npz_images(npz_path, save_dir, num_images=50):\n",
    "    \"\"\"\n",
    "    从 .npz 文件中加载 RGB 图片，并保存到指定目录。\n",
    "\n",
    "    参数:\n",
    "    - npz_path (str): .npz 文件的路径\n",
    "    - save_dir (str): 图片保存的目标目录\n",
    "    - num_images (int): 需要保存的图片数量（默认为 50）\n",
    "    \"\"\"\n",
    "    # 确保保存目录存在\n",
    "    os.makedirs(save_dir, exist_ok=True)\n",
    "\n",
    "    # 加载 .npz 文件\n",
    "    data = np.load(npz_path)\n",
    "\n",
    "    # 获取图片数组，通常存储在 'arr_0'，可能需要检查具体 key\n",
    "    images = data[\"arr_0\"]  # shape: (N, H, W, C) 其中 C 可能是 3(RGB) 或 4(RGBA)\n",
    "\n",
    "    # 确保不超过总图片数\n",
    "    num_images = min(num_images, images.shape[0])\n",
    "\n",
    "    # 遍历并保存图片\n",
    "    for i in range(num_images):\n",
    "        img = images[i]\n",
    "\n",
    "        # 确保图像是 uint8 类型\n",
    "        if img.dtype != np.uint8:\n",
    "            img = (img * 255).astype(np.uint8)  # 归一化到 [0,255]\n",
    "\n",
    "        # 如果图像是 RGBA（C=4），转换为 RGB\n",
    "        if img.shape[-1] == 4:\n",
    "            img = Image.fromarray(img).convert(\"RGB\")\n",
    "        else:\n",
    "            img = Image.fromarray(img)\n",
    "\n",
    "        # 保存为 RGB 格式的 PNG\n",
    "        save_path = os.path.join(save_dir, f\"sample_{i}.png\")\n",
    "        img.save(save_path, format=\"PNG\")\n",
    "\n",
    "    print(f\"✅ 已成功保存 {num_images} 张 RGB 图片到 {save_dir}\")\n",
    "\n",
    "\n",
    "\n",
    "\n",
    "\n",
    "npz_path=\"/home/chunjie/improved-diffusion-main/ML_project/linear_schedule/samples_50000x32x32x3.npz\"\n",
    "save_dir=\"/home/chunjie/improved-diffusion-main/ML_project/linear_schedule/img\"\n",
    "save_npz_images(npz_path,save_dir,num_images=50000)\n",
    "\n",
    "\n",
    "\n"
   ]
  },
  {
   "cell_type": "code",
   "execution_count": 2,
   "id": "a4ce6cf2",
   "metadata": {},
   "outputs": [
    {
     "name": "stderr",
     "output_type": "stream",
     "text": [
      "Creating feature extractor \"inception-v3-compat\" with features ['logits_unbiased', '2048']\n",
      "Extracting features from input1\n",
      "Looking for samples non-recursivelty in \"/home/chunjie/improved-diffusion-main/datasets/cifar_train\" with extensions png,jpg,jpeg\n",
      "Found 50000 samples\n",
      "/home/chunjie/miniconda3/envs/MyPytorch/lib/python3.13/site-packages/torch_fidelity/datasets.py:16: UserWarning: TypedStorage is deprecated. It will be removed in the future and UntypedStorage will be the only storage class. This should only matter to you if you are using storages directly.  To access UntypedStorage directly, use tensor.untyped_storage() instead of tensor.storage()\n",
      "  img = torch.ByteTensor(torch.ByteStorage.from_buffer(img.tobytes())).view(height, width, 3)\n",
      "Processing samples                                                                                                                               \n",
      "Extracting features from input2\n",
      "Looking for samples non-recursivelty in \"/home/chunjie/improved-diffusion-main/ML_project/linear_schedule/img\" with extensions png,jpg,jpeg\n",
      "Found 50000 samples\n",
      "Processing samples                                                                                                                               \n",
      "Inception Score: 11.246055800480613 ± 0.14352855727580247\n",
      "Frechet Inception Distance: 4.408335713021643\n",
      "                                                                                                                                                 "
     ]
    },
    {
     "name": "stdout",
     "output_type": "stream",
     "text": [
      "{'inception_score_mean': 11.246055800480613, 'inception_score_std': 0.14352855727580247, 'frechet_inception_distance': 4.408335713021643, 'kernel_inception_distance_mean': 0.0031043338775634767, 'kernel_inception_distance_std': 0.0005775018845715509}\n"
     ]
    },
    {
     "name": "stderr",
     "output_type": "stream",
     "text": [
      "Kernel Inception Distance: 0.0031043338775634767 ± 0.0005775018845715509\n"
     ]
    }
   ],
   "source": [
    "# fid test\n",
    "import torch_fidelity\n",
    "# org ddim250\n",
    "real_images_path = \"/home/chunjie/improved-diffusion-main/datasets/cifar_train\"\n",
    "fake_images_path=save_dir\n",
    "metrics = torch_fidelity.calculate_metrics(\n",
    "    input1=real_images_path,\n",
    "    input2=fake_images_path,\n",
    "    cuda=True,\n",
    "    isc=True, \n",
    "    fid=True, \n",
    "    kid=True,\n",
    "    precision=True,  # 确保 Precision 计算\n",
    "    recall=True,  # 确保 Recall 计算\n",
    ")\n",
    "print(metrics)  # 应该输出 FID, Precision, Recall"
   ]
  },
  {
   "cell_type": "code",
   "execution_count": 2,
   "id": "1ccecde5",
   "metadata": {},
   "outputs": [
    {
     "name": "stdout",
     "output_type": "stream",
     "text": [
      "路径 '/home/chunjie/improved-diffusion-main/0420/train_data/' 下的图片数量为: 50000\n"
     ]
    }
   ],
   "source": [
    "import os\n",
    "\n",
    "def count_images_in_path(directory):\n",
    "    \"\"\"\n",
    "    统计指定路径及其子目录下的图片文件数量。\n",
    "\n",
    "    Args:\n",
    "        directory (str): 文件夹路径。\n",
    "\n",
    "    Returns:\n",
    "        int: 图片文件的总数量。\n",
    "    \"\"\"\n",
    "    # 支持的图片文件扩展名\n",
    "    valid_extensions = {\".jpg\", \".jpeg\", \".png\", \".bmp\", \".tiff\", \".gif\"}\n",
    "    \n",
    "    # 初始化图片计数\n",
    "    image_count = 0\n",
    "\n",
    "    # 遍历目录及其子目录\n",
    "    for root, _, files in os.walk(directory):\n",
    "        for file in files:\n",
    "            # 检查文件扩展名是否为有效图片格式\n",
    "            if os.path.splitext(file)[1].lower() in valid_extensions:\n",
    "                image_count += 1\n",
    "    \n",
    "    return image_count\n",
    "\n",
    "# 示例使用\n",
    "directory_path = save_dir  # 替换为你的路径\n",
    "total_images = count_images_in_path(directory_path)\n",
    "print(f\"路径 '{directory_path}' 下的图片数量为: {total_images}\")"
   ]
  }
 ],
 "metadata": {
  "kernelspec": {
   "display_name": "Python 3 (ipykernel)",
   "language": "python",
   "name": "python3"
  },
  "language_info": {
   "codemirror_mode": {
    "name": "ipython",
    "version": 3
   },
   "file_extension": ".py",
   "mimetype": "text/x-python",
   "name": "python",
   "nbconvert_exporter": "python",
   "pygments_lexer": "ipython3",
   "version": "3.13.5"
  }
 },
 "nbformat": 4,
 "nbformat_minor": 5
}
